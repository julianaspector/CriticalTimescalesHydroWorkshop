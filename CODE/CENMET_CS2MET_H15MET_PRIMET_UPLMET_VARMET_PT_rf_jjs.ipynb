{
 "cells": [
  {
   "cell_type": "markdown",
   "metadata": {},
   "source": [
    "### Random Forest Regressor"
   ]
  },
  {
   "cell_type": "markdown",
   "metadata": {},
   "source": [
    "### Step 1: Import libraries"
   ]
  },
  {
   "cell_type": "code",
   "execution_count": 2,
   "metadata": {},
   "outputs": [],
   "source": [
    "# import stuff\n",
    "import numpy as np\n",
    "import pandas as pd\n",
    "import matplotlib.pyplot as plt\n",
    "from scipy import io\n",
    "from sklearn import metrics\n",
    "from sklearn.preprocessing import scale\n",
    "from sklearn.preprocessing import normalize\n",
    "from sklearn.preprocessing import minmax_scale\n",
    "from sklearn.preprocessing import RobustScaler\n",
    "from sklearn.preprocessing import StandardScaler\n",
    "from sklearn.metrics import r2_score\n",
    "from sklearn.metrics import mean_squared_error\n",
    "from sklearn.ensemble import RandomForestRegressor\n",
    "from sklearn.neural_network import MLPRegressor\n",
    "from sklearn import svm\n",
    "from sklearn.model_selection import GridSearchCV\n",
    "from math import sqrt\n",
    "import TEpython_Parallel\n",
    "import os"
   ]
  },
  {
   "cell_type": "markdown",
   "metadata": {},
   "source": [
    "### Step 2: Read data (note: no explicit transformation for null model)"
   ]
  },
  {
   "cell_type": "code",
   "execution_count": 3,
   "metadata": {},
   "outputs": [
    {
     "name": "stdout",
     "output_type": "stream",
     "text": [
      "(973, 7)\n"
     ]
    },
    {
     "data": {
      "text/html": [
       "<div>\n",
       "<style scoped>\n",
       "    .dataframe tbody tr th:only-of-type {\n",
       "        vertical-align: middle;\n",
       "    }\n",
       "\n",
       "    .dataframe tbody tr th {\n",
       "        vertical-align: top;\n",
       "    }\n",
       "\n",
       "    .dataframe thead th {\n",
       "        text-align: right;\n",
       "    }\n",
       "</style>\n",
       "<table border=\"1\" class=\"dataframe\">\n",
       "  <thead>\n",
       "    <tr style=\"text-align: right;\">\n",
       "      <th></th>\n",
       "      <th>GSLOOK_discharge</th>\n",
       "      <th>CENMET_455_precip7d_average</th>\n",
       "      <th>CS2MET_260_precip7d_average</th>\n",
       "      <th>H15MET_410_precip7d_average</th>\n",
       "      <th>PRIMET_100_precip7d_average</th>\n",
       "      <th>UPLMET_455_precip7d_average</th>\n",
       "      <th>VARMET_455_precip7d_average</th>\n",
       "    </tr>\n",
       "    <tr>\n",
       "      <th>DateTime</th>\n",
       "      <th></th>\n",
       "      <th></th>\n",
       "      <th></th>\n",
       "      <th></th>\n",
       "      <th></th>\n",
       "      <th></th>\n",
       "      <th></th>\n",
       "    </tr>\n",
       "  </thead>\n",
       "  <tbody>\n",
       "    <tr>\n",
       "      <th>2011-07-01</th>\n",
       "      <td>50.0</td>\n",
       "      <td>1.885714</td>\n",
       "      <td>2.142857</td>\n",
       "      <td>2.100000</td>\n",
       "      <td>2.200000</td>\n",
       "      <td>1.900000</td>\n",
       "      <td>2.171429</td>\n",
       "    </tr>\n",
       "    <tr>\n",
       "      <th>2011-07-02</th>\n",
       "      <td>48.0</td>\n",
       "      <td>1.885714</td>\n",
       "      <td>2.142857</td>\n",
       "      <td>2.100000</td>\n",
       "      <td>2.200000</td>\n",
       "      <td>1.914286</td>\n",
       "      <td>2.157143</td>\n",
       "    </tr>\n",
       "    <tr>\n",
       "      <th>2011-07-03</th>\n",
       "      <td>46.0</td>\n",
       "      <td>1.885714</td>\n",
       "      <td>2.142857</td>\n",
       "      <td>2.100000</td>\n",
       "      <td>2.200000</td>\n",
       "      <td>1.914286</td>\n",
       "      <td>2.157143</td>\n",
       "    </tr>\n",
       "    <tr>\n",
       "      <th>2011-07-04</th>\n",
       "      <td>44.0</td>\n",
       "      <td>1.714286</td>\n",
       "      <td>1.957143</td>\n",
       "      <td>1.900000</td>\n",
       "      <td>1.985714</td>\n",
       "      <td>1.657143</td>\n",
       "      <td>2.014286</td>\n",
       "    </tr>\n",
       "    <tr>\n",
       "      <th>2011-07-05</th>\n",
       "      <td>41.0</td>\n",
       "      <td>0.414286</td>\n",
       "      <td>0.142857</td>\n",
       "      <td>0.685714</td>\n",
       "      <td>0.257143</td>\n",
       "      <td>0.628571</td>\n",
       "      <td>0.971429</td>\n",
       "    </tr>\n",
       "  </tbody>\n",
       "</table>\n",
       "</div>"
      ],
      "text/plain": [
       "            GSLOOK_discharge  CENMET_455_precip7d_average  \\\n",
       "DateTime                                                    \n",
       "2011-07-01              50.0                     1.885714   \n",
       "2011-07-02              48.0                     1.885714   \n",
       "2011-07-03              46.0                     1.885714   \n",
       "2011-07-04              44.0                     1.714286   \n",
       "2011-07-05              41.0                     0.414286   \n",
       "\n",
       "            CS2MET_260_precip7d_average  H15MET_410_precip7d_average  \\\n",
       "DateTime                                                               \n",
       "2011-07-01                     2.142857                     2.100000   \n",
       "2011-07-02                     2.142857                     2.100000   \n",
       "2011-07-03                     2.142857                     2.100000   \n",
       "2011-07-04                     1.957143                     1.900000   \n",
       "2011-07-05                     0.142857                     0.685714   \n",
       "\n",
       "            PRIMET_100_precip7d_average  UPLMET_455_precip7d_average  \\\n",
       "DateTime                                                               \n",
       "2011-07-01                     2.200000                     1.900000   \n",
       "2011-07-02                     2.200000                     1.914286   \n",
       "2011-07-03                     2.200000                     1.914286   \n",
       "2011-07-04                     1.985714                     1.657143   \n",
       "2011-07-05                     0.257143                     0.628571   \n",
       "\n",
       "            VARMET_455_precip7d_average  \n",
       "DateTime                                 \n",
       "2011-07-01                     2.171429  \n",
       "2011-07-02                     2.157143  \n",
       "2011-07-03                     2.157143  \n",
       "2011-07-04                     2.014286  \n",
       "2011-07-05                     0.971429  "
      ]
     },
     "execution_count": 3,
     "metadata": {},
     "output_type": "execute_result"
    }
   ],
   "source": [
    "# read in all csv files in working directory\n",
    "dfs = [pd.read_csv(f, header = 0,index_col = 'DateTime',parse_dates = True, infer_datetime_format = True,low_memory=False)\n",
    "        for f in os.listdir(os.getcwd()) if f.endswith('csv')]\n",
    "# merge all time series data with datetime as index\n",
    "table = pd.concat(dfs, axis=1, join='outer').sort_index()\n",
    "table = table.dropna() # drop rows that have na data\n",
    "# drop non-relevent columns using keywords\n",
    "l1 = ['350', '250', '625_precip', 'VMC', '_ST', 'humidity', 'dewPoint', 'solar', 'Pressure', 'Deficit', 'snow', 'swe', 'VANMET', 'AirTemp'] #partial names of columns to drop\n",
    "for i in l1:\n",
    "    table.drop([col for col in table.columns if i in col],axis=1, inplace=True)\n",
    "# calculate the 7 day rolling mean precipitation\n",
    "l2 = ['CENMET_455_precip', 'CS2MET_260_precip', 'H15MET_410_precip', 'PRIMET_100_precip','UPLMET_455_precip', 'VARMET_455_precip']\n",
    "for j in l2:\n",
    "    table[j+'7d_average']=table[j].rolling(7).mean()\n",
    "    table=table.drop(columns=[j])   # drop daily precipitation data \n",
    "table = table.dropna() \n",
    "table = table.loc[:,~table.columns.duplicated()] # this leaves only one discharge column\n",
    "\n",
    "print(table.shape)\n",
    "nRows = int(table.shape[0])\n",
    "nCols = int(table.shape[1])\n",
    "\n",
    "table.head(5)\n"
   ]
  },
  {
   "cell_type": "code",
   "execution_count": 4,
   "metadata": {},
   "outputs": [
    {
     "data": {
      "text/plain": [
       "['CENMET_455_precip7d_average',\n",
       " 'CS2MET_260_precip7d_average',\n",
       " 'H15MET_410_precip7d_average',\n",
       " 'PRIMET_100_precip7d_average',\n",
       " 'UPLMET_455_precip7d_average',\n",
       " 'VARMET_455_precip7d_average']"
      ]
     },
     "execution_count": 4,
     "metadata": {},
     "output_type": "execute_result"
    }
   ],
   "source": [
    "# get predictor names\n",
    "colnames = list(table.columns)\n",
    "varnames = colnames[1:nCols]\n",
    "varnames"
   ]
  },
  {
   "cell_type": "markdown",
   "metadata": {},
   "source": [
    "### Step 3: Separate predictors and response variable"
   ]
  },
  {
   "cell_type": "code",
   "execution_count": 5,
   "metadata": {},
   "outputs": [
    {
     "data": {
      "text/plain": [
       "array([[1.88571429, 2.14285714, 2.1       , 2.2       , 1.9       ,\n",
       "        2.17142857]])"
      ]
     },
     "execution_count": 5,
     "metadata": {},
     "output_type": "execute_result"
    }
   ],
   "source": [
    "# separate variables\n",
    "discharge = table.GSLOOK_discharge.values\n",
    "predictors = table.iloc[:,1:nCols].values\n",
    "predictors[0:1,:]\n"
   ]
  },
  {
   "cell_type": "code",
   "execution_count": 6,
   "metadata": {},
   "outputs": [
    {
     "data": {
      "text/plain": [
       "array([[1.88571429, 2.14285714, 2.1       , 2.2       , 1.9       ,\n",
       "        2.17142857]])"
      ]
     },
     "execution_count": 6,
     "metadata": {},
     "output_type": "execute_result"
    }
   ],
   "source": [
    "# Note: no scaling needed for decision trees\n",
    "# X\n",
    "X = predictors\n",
    "X[0:1,:]"
   ]
  },
  {
   "cell_type": "code",
   "execution_count": 7,
   "metadata": {},
   "outputs": [],
   "source": [
    "# Y\n",
    "Y = discharge"
   ]
  },
  {
   "cell_type": "markdown",
   "metadata": {},
   "source": [
    "### Step 4: Split data into training and test set"
   ]
  },
  {
   "cell_type": "code",
   "execution_count": 8,
   "metadata": {},
   "outputs": [
    {
     "data": {
      "text/plain": [
       "array([[1.88571429, 2.14285714, 2.1       , 2.2       , 1.9       ,\n",
       "        2.17142857]])"
      ]
     },
     "execution_count": 8,
     "metadata": {},
     "output_type": "execute_result"
    }
   ],
   "source": [
    "# separate train and test data\n",
    "train_fraction = 0.75\n",
    "train_length = int(nRows * train_fraction)\n",
    "test_length = nRows-train_length\n",
    "#\n",
    "train_X = X[:train_length,:]\n",
    "train_Y = Y[:train_length]\n",
    "test_X = X[train_length:,:]\n",
    "test_Y = Y[train_length:]\n",
    "train_X[0:1,:]\n"
   ]
  },
  {
   "cell_type": "markdown",
   "metadata": {},
   "source": [
    "### Step 5: Setup cross-validation, estimator, and parameter search"
   ]
  },
  {
   "cell_type": "code",
   "execution_count": 9,
   "metadata": {},
   "outputs": [],
   "source": [
    "# define k-fold and number of parallel jobs\n",
    "nFold = 5\n",
    "nJobs = 10"
   ]
  },
  {
   "cell_type": "code",
   "execution_count": 10,
   "metadata": {},
   "outputs": [],
   "source": [
    "# setup default estimator\n",
    "#myRFR = RandomForestRegressor(n_estimators=100, n_jobs-1, max_features='sqrt', min_samples_split=5, \n",
    "#    min_samples_leaf=50, min_impurity_split=1e-07, criterion=’mse’)\n",
    "\n",
    "# estimators: number of trees\n",
    "myRFR = RandomForestRegressor(criterion='mse', verbose=3)\n"
   ]
  },
  {
   "cell_type": "markdown",
   "metadata": {},
   "source": [
    "## Important parameters:\n",
    "\n",
    "n_estimators : integer, optional (default=10)\n",
    "\n",
    "    The number of trees in the forest.\n",
    "\n",
    "criterion : string, optional (default=”mse”)\n",
    "\n",
    "    The function to measure the quality of a split. \n",
    "    \n",
    "max_depth : integer or None, optional (default=None)\n",
    "\n",
    "    The maximum depth of the tree. \n",
    "    \n",
    "min_samples_split : int, float, optional (default=2)\n",
    "\n",
    "    The minimum number of samples required to split an internal node:\n",
    "\n",
    "min_samples_leaf : int, float, optional (default=1)\n",
    "\n",
    "    The minimum number of samples required to be at a leaf node. \n",
    "\n",
    "min_impurity_decrease : float, optional (default=0.)\n",
    "\n",
    "    A node will be split if this split induces a decrease of the impurity greater than or equal to this value.\n",
    "\n",
    "min_impurity_split : float, (default=1e-7)\n",
    "\n",
    "    Threshold for early stopping in tree growth. A node will split if its impurity is above the threshold, otherwise it is a leaf.\n",
    "\n"
   ]
  },
  {
   "cell_type": "code",
   "execution_count": 11,
   "metadata": {},
   "outputs": [
    {
     "data": {
      "text/plain": [
       "{'n_estimators': [50, 100, 200],\n",
       " 'max_features': ['sqrt', 'log2'],\n",
       " 'max_depth': [2, 3, 4, 5, 10],\n",
       " 'min_samples_split': [2, 3, 4, 5, 10],\n",
       " 'min_samples_leaf': [2, 5, 10, 50]}"
      ]
     },
     "execution_count": 11,
     "metadata": {},
     "output_type": "execute_result"
    }
   ],
   "source": [
    "# parameters to test in grid search / cross validation\n",
    "myRFR_params = { \n",
    "    'n_estimators': [50, 100, 200],\n",
    "    'max_features': ['sqrt','log2'],\n",
    "    'max_depth' : [2,3,4,5,10],\n",
    "    'min_samples_split' : [2,3,4,5,10],\n",
    "    'min_samples_leaf' : [2,5,10,50]}\n",
    "myRFR_params\n"
   ]
  },
  {
   "cell_type": "markdown",
   "metadata": {},
   "source": [
    "### Step 6: Perform parameter search, fit estimator"
   ]
  },
  {
   "cell_type": "code",
   "execution_count": 12,
   "metadata": {},
   "outputs": [
    {
     "name": "stdout",
     "output_type": "stream",
     "text": [
      "Fitting 5 folds for each of 600 candidates, totalling 3000 fits\n"
     ]
    },
    {
     "name": "stderr",
     "output_type": "stream",
     "text": [
      "[Parallel(n_jobs=10)]: Using backend LokyBackend with 10 concurrent workers.\n",
      "[Parallel(n_jobs=10)]: Done  12 tasks      | elapsed:    8.9s\n",
      "[Parallel(n_jobs=10)]: Done 108 tasks      | elapsed:   22.0s\n",
      "[Parallel(n_jobs=10)]: Done 268 tasks      | elapsed:   34.1s\n",
      "[Parallel(n_jobs=10)]: Done 492 tasks      | elapsed:   54.1s\n",
      "[Parallel(n_jobs=10)]: Done 780 tasks      | elapsed:  1.3min\n",
      "[Parallel(n_jobs=10)]: Done 1132 tasks      | elapsed:  1.8min\n",
      "[Parallel(n_jobs=10)]: Done 1548 tasks      | elapsed:  2.4min\n",
      "[Parallel(n_jobs=10)]: Done 2028 tasks      | elapsed:  3.1min\n",
      "[Parallel(n_jobs=10)]: Done 2572 tasks      | elapsed:  3.9min\n",
      "[Parallel(n_jobs=10)]: Done 3000 out of 3000 | elapsed:  4.5min finished\n",
      "C:\\Users\\Jules\\Anaconda3\\lib\\site-packages\\sklearn\\model_selection\\_search.py:813: DeprecationWarning: The default of the `iid` parameter will change from True to False in version 0.22 and will be removed in 0.24. This will change numeric results when test-set sizes are unequal.\n",
      "  DeprecationWarning)\n",
      "[Parallel(n_jobs=1)]: Using backend SequentialBackend with 1 concurrent workers.\n"
     ]
    },
    {
     "name": "stdout",
     "output_type": "stream",
     "text": [
      "building tree 1 of 50\n"
     ]
    },
    {
     "name": "stderr",
     "output_type": "stream",
     "text": [
      "[Parallel(n_jobs=1)]: Done   1 out of   1 | elapsed:    0.0s remaining:    0.0s\n"
     ]
    },
    {
     "name": "stdout",
     "output_type": "stream",
     "text": [
      "building tree 2 of 50\n"
     ]
    },
    {
     "name": "stderr",
     "output_type": "stream",
     "text": [
      "[Parallel(n_jobs=1)]: Done   2 out of   2 | elapsed:    0.0s remaining:    0.0s\n"
     ]
    },
    {
     "name": "stdout",
     "output_type": "stream",
     "text": [
      "building tree 3 of 50\n",
      "building tree 4 of 50\n",
      "building tree 5 of 50\n",
      "building tree 6 of 50\n",
      "building tree 7 of 50\n",
      "building tree 8 of 50\n",
      "building tree 9 of 50\n",
      "building tree 10 of 50\n",
      "building tree 11 of 50\n",
      "building tree 12 of 50\n",
      "building tree 13 of 50\n",
      "building tree 14 of 50\n",
      "building tree 15 of 50\n",
      "building tree 16 of 50\n",
      "building tree 17 of 50\n",
      "building tree 18 of 50\n",
      "building tree 19 of 50\n",
      "building tree 20 of 50\n",
      "building tree 21 of 50\n",
      "building tree 22 of 50\n",
      "building tree 23 of 50\n",
      "building tree 24 of 50\n",
      "building tree 25 of 50\n",
      "building tree 26 of 50\n",
      "building tree 27 of 50\n",
      "building tree 28 of 50\n",
      "building tree 29 of 50\n",
      "building tree 30 of 50\n",
      "building tree 31 of 50\n",
      "building tree 32 of 50\n",
      "building tree 33 of 50\n",
      "building tree 34 of 50\n",
      "building tree 35 of 50\n",
      "building tree 36 of 50\n",
      "building tree 37 of 50\n",
      "building tree 38 of 50\n",
      "building tree 39 of 50\n",
      "building tree 40 of 50\n",
      "building tree 41 of 50\n",
      "building tree 42 of 50\n",
      "building tree 43 of 50\n",
      "building tree 44 of 50\n",
      "building tree 45 of 50\n",
      "building tree 46 of 50\n",
      "building tree 47 of 50\n",
      "building tree 48 of 50\n",
      "building tree 49 of 50\n",
      "building tree 50 of 50\n"
     ]
    },
    {
     "name": "stderr",
     "output_type": "stream",
     "text": [
      "[Parallel(n_jobs=1)]: Done  50 out of  50 | elapsed:    0.1s finished\n"
     ]
    },
    {
     "data": {
      "text/plain": [
       "GridSearchCV(cv=5, error_score='raise-deprecating',\n",
       "             estimator=RandomForestRegressor(bootstrap=True, criterion='mse',\n",
       "                                             max_depth=None,\n",
       "                                             max_features='auto',\n",
       "                                             max_leaf_nodes=None,\n",
       "                                             min_impurity_decrease=0.0,\n",
       "                                             min_impurity_split=None,\n",
       "                                             min_samples_leaf=1,\n",
       "                                             min_samples_split=2,\n",
       "                                             min_weight_fraction_leaf=0.0,\n",
       "                                             n_estimators='warn', n_jobs=None,\n",
       "                                             oob_score=False, random_state=None,\n",
       "                                             verbose=3, warm_start=False),\n",
       "             iid='warn', n_jobs=10,\n",
       "             param_grid={'max_depth': [2, 3, 4, 5, 10],\n",
       "                         'max_features': ['sqrt', 'log2'],\n",
       "                         'min_samples_leaf': [2, 5, 10, 50],\n",
       "                         'min_samples_split': [2, 3, 4, 5, 10],\n",
       "                         'n_estimators': [50, 100, 200]},\n",
       "             pre_dispatch='2*n_jobs', refit=True, return_train_score=False,\n",
       "             scoring=None, verbose=3)"
      ]
     },
     "execution_count": 12,
     "metadata": {},
     "output_type": "execute_result"
    }
   ],
   "source": [
    "# do parameter space search\n",
    "# myRFR_CV = GridSearchCV(estimator=myRFR, param_grid=param_grid, cv= nFold)\n",
    "# GridSearchCV(estimator, param_grid, scoring=None, fit_params=None, n_jobs=None, iid=’warn’, refit=True, cv=’warn’, verbose=0, pre_dispatch=‘2*n_jobs’, error_score=’raise-deprecating’, return_train_score=’warn’)\n",
    "myRFR_CV = GridSearchCV(estimator=myRFR, param_grid=myRFR_params, cv=nFold, n_jobs=nJobs, verbose=3, refit=True)\n",
    "myRFR_CV.fit(train_X, train_Y)"
   ]
  },
  {
   "cell_type": "code",
   "execution_count": 13,
   "metadata": {},
   "outputs": [
    {
     "data": {
      "text/plain": [
       "{'max_depth': 4,\n",
       " 'max_features': 'sqrt',\n",
       " 'min_samples_leaf': 2,\n",
       " 'min_samples_split': 4,\n",
       " 'n_estimators': 50}"
      ]
     },
     "execution_count": 13,
     "metadata": {},
     "output_type": "execute_result"
    }
   ],
   "source": [
    "myRFR_CV.best_params_"
   ]
  },
  {
   "cell_type": "markdown",
   "metadata": {},
   "source": [
    "### Step 7: Train and test using optimized estimator"
   ]
  },
  {
   "cell_type": "code",
   "execution_count": 14,
   "metadata": {},
   "outputs": [
    {
     "name": "stderr",
     "output_type": "stream",
     "text": [
      "[Parallel(n_jobs=1)]: Using backend SequentialBackend with 1 concurrent workers.\n",
      "[Parallel(n_jobs=1)]: Done   1 out of   1 | elapsed:    0.0s remaining:    0.0s\n",
      "[Parallel(n_jobs=1)]: Done   2 out of   2 | elapsed:    0.0s remaining:    0.0s\n",
      "[Parallel(n_jobs=1)]: Done  50 out of  50 | elapsed:    0.0s finished\n",
      "[Parallel(n_jobs=1)]: Using backend SequentialBackend with 1 concurrent workers.\n",
      "[Parallel(n_jobs=1)]: Done   1 out of   1 | elapsed:    0.0s remaining:    0.0s\n",
      "[Parallel(n_jobs=1)]: Done   2 out of   2 | elapsed:    0.0s remaining:    0.0s\n",
      "[Parallel(n_jobs=1)]: Done  50 out of  50 | elapsed:    0.0s finished\n"
     ]
    }
   ],
   "source": [
    "# train and test\n",
    "myRFR_test_pred = myRFR_CV.predict(test_X)\n",
    "myRFR_train_pred = myRFR_CV.predict(train_X)\n",
    "\n",
    "# eliminate negative predictions\n",
    "myRFR_train_pred_copy = myRFR_train_pred.copy()\n",
    "myRFR_test_pred_copy = myRFR_test_pred.copy()\n",
    "myRFR_train_pred[myRFR_train_pred<0] = 0\n",
    "myRFR_test_pred[myRFR_test_pred<0] = 0\n"
   ]
  },
  {
   "cell_type": "markdown",
   "metadata": {},
   "source": [
    "### Step 8: Compute error"
   ]
  },
  {
   "cell_type": "code",
   "execution_count": 15,
   "metadata": {},
   "outputs": [
    {
     "name": "stdout",
     "output_type": "stream",
     "text": [
      "RMSE: 124.79302605882145\n",
      "EVS: 0.4932786495608903\n",
      "R2: 0.4920387108269524\n",
      "NS: 0.5070179388303635\n"
     ]
    }
   ],
   "source": [
    "def logNS(o,s):\n",
    "    \"\"\"\n",
    "    Nash Sutcliffe efficiency coefficient\n",
    "    input:\n",
    "        s: simulated\n",
    "        o: observed\n",
    "    output:\n",
    "        ns: Nash Sutcliffe efficient coefficient\n",
    "    \"\"\"\n",
    "    eps = 1e-5\n",
    "    return 1 - sum((np.log(s+eps)-np.log(o+eps))**2)/sum((np.log(o+eps)-np.mean(np.log(o+eps)))**2) \n",
    "\n",
    "# compute error\n",
    "RMSE = np.sqrt(metrics.mean_squared_error(test_Y, myRFR_test_pred))\n",
    "EVS = metrics.explained_variance_score(test_Y, myRFR_test_pred)\n",
    "R2 = metrics.r2_score(test_Y, myRFR_test_pred)\n",
    "NS = logNS(test_Y, myRFR_test_pred)\n",
    "\n",
    "print('RMSE:', RMSE)\n",
    "print('EVS:', EVS)\n",
    "print('R2:', R2)\n",
    "print('NS:', NS)"
   ]
  },
  {
   "cell_type": "markdown",
   "metadata": {},
   "source": [
    "### Step 9: plot results"
   ]
  },
  {
   "cell_type": "code",
   "execution_count": 17,
   "metadata": {},
   "outputs": [
    {
     "data": {
      "text/plain": [
       "<matplotlib.legend.Legend at 0x222c3de3898>"
      ]
     },
     "execution_count": 17,
     "metadata": {},
     "output_type": "execute_result"
    },
    {
     "data": {
      "image/png": "[encoded data removed]",
      "text/plain": [
       "<Figure size 1296x648 with 1 Axes>"
      ]
     },
     "metadata": {
      "needs_background": "light"
     },
     "output_type": "display_data"
    }
   ],
   "source": [
    "plt.figure(figsize=(18,9))\n",
    "plt.plot(np.arange(train_length), train_Y, label='Training true value', lw=10)\n",
    "plt.plot(np.arange(train_length), myRFR_train_pred, label='Training prediction value', color='#ffcc5c')\n",
    "plt.plot(np.arange(train_length,nRows), test_Y, label='Test true value', lw=10, c='g')\n",
    "plt.plot(np.arange(train_length,nRows), myRFR_test_pred, label='Test prediction value', color='#ff6f69')\n",
    "plt.title('Discharge predicted by 7-day rolling averaged precipitation for CENMET, CS2MET, H15MET, PRIMET, UPLMET, and VARMET')\n",
    "plt.xlabel(\"Train Length\")\n",
    "plt.ylabel(\"Discharge\")\n",
    "plt.legend(fontsize='xx-large')\n"
   ]
  },
  {
   "cell_type": "markdown",
   "metadata": {},
   "source": [
    "### Step 10: get variable importance (RFR only)"
   ]
  },
  {
   "cell_type": "code",
   "execution_count": 18,
   "metadata": {},
   "outputs": [
    {
     "data": {
      "text/html": [
       "<div>\n",
       "<style scoped>\n",
       "    .dataframe tbody tr th:only-of-type {\n",
       "        vertical-align: middle;\n",
       "    }\n",
       "\n",
       "    .dataframe tbody tr th {\n",
       "        vertical-align: top;\n",
       "    }\n",
       "\n",
       "    .dataframe thead th {\n",
       "        text-align: right;\n",
       "    }\n",
       "</style>\n",
       "<table border=\"1\" class=\"dataframe\">\n",
       "  <thead>\n",
       "    <tr style=\"text-align: right;\">\n",
       "      <th></th>\n",
       "      <th>Importance</th>\n",
       "    </tr>\n",
       "  </thead>\n",
       "  <tbody>\n",
       "    <tr>\n",
       "      <th>PRIMET_100_precip7d_average</th>\n",
       "      <td>0.241521</td>\n",
       "    </tr>\n",
       "    <tr>\n",
       "      <th>CS2MET_260_precip7d_average</th>\n",
       "      <td>0.233201</td>\n",
       "    </tr>\n",
       "    <tr>\n",
       "      <th>H15MET_410_precip7d_average</th>\n",
       "      <td>0.187663</td>\n",
       "    </tr>\n",
       "    <tr>\n",
       "      <th>CENMET_455_precip7d_average</th>\n",
       "      <td>0.149214</td>\n",
       "    </tr>\n",
       "    <tr>\n",
       "      <th>UPLMET_455_precip7d_average</th>\n",
       "      <td>0.123192</td>\n",
       "    </tr>\n",
       "    <tr>\n",
       "      <th>VARMET_455_precip7d_average</th>\n",
       "      <td>0.065208</td>\n",
       "    </tr>\n",
       "  </tbody>\n",
       "</table>\n",
       "</div>"
      ],
      "text/plain": [
       "                             Importance\n",
       "PRIMET_100_precip7d_average    0.241521\n",
       "CS2MET_260_precip7d_average    0.233201\n",
       "H15MET_410_precip7d_average    0.187663\n",
       "CENMET_455_precip7d_average    0.149214\n",
       "UPLMET_455_precip7d_average    0.123192\n",
       "VARMET_455_precip7d_average    0.065208"
      ]
     },
     "execution_count": 18,
     "metadata": {},
     "output_type": "execute_result"
    }
   ],
   "source": [
    "importance = pd.DataFrame(myRFR_CV.best_estimator_.feature_importances_,index = varnames, columns=['Importance'])\n",
    "importance.sort_values(by='Importance', ascending=False).head(30)"
   ]
  },
  {
   "cell_type": "markdown",
   "metadata": {},
   "source": [
    "### Step 11: compute Mutual Information between observed and model"
   ]
  },
  {
   "cell_type": "code",
   "execution_count": 19,
   "metadata": {},
   "outputs": [
    {
     "name": "stdout",
     "output_type": "stream",
     "text": [
      "Mutual Information, I =  34.82956401767735 %\n"
     ]
    }
   ],
   "source": [
    "# stack observed and model into a matrix\n",
    "DataMat = np.column_stack((test_Y,myRFR_test_pred))\n",
    "\n",
    "# compute mutual information\n",
    "nbins = [11,11,11]\n",
    "MutInfoQobsVSQmod = TEpython_Parallel.mutinfo_new(DataMat,nbins)\n",
    "print('Mutual Information, I = ', MutInfoQobsVSQmod*100, '%') # I/H"
   ]
  }
 ],
 "metadata": {
  "kernelspec": {
   "display_name": "Python 3",
   "language": "python",
   "name": "python3"
  },
  "language_info": {
   "codemirror_mode": {
    "name": "ipython",
    "version": 3
   },
   "file_extension": ".py",
   "mimetype": "text/x-python",
   "name": "python",
   "nbconvert_exporter": "python",
   "pygments_lexer": "ipython3",
   "version": "3.7.0"
  }
 },
 "nbformat": 4,
 "nbformat_minor": 2
}
